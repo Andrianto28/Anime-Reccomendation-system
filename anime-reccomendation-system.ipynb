{
 "cells": [
  {
   "cell_type": "code",
   "execution_count": 1,
   "metadata": {
    "_cell_guid": "b1076dfc-b9ad-4769-8c92-a6c4dae69d19",
    "_uuid": "8f2839f25d086af736a60e9eeb907d3b93b6e0e5",
    "execution": {
     "iopub.execute_input": "2021-09-24T19:31:04.689675Z",
     "iopub.status.busy": "2021-09-24T19:31:04.684407Z",
     "iopub.status.idle": "2021-09-24T19:31:05.781675Z",
     "shell.execute_reply": "2021-09-24T19:31:05.780914Z",
     "shell.execute_reply.started": "2021-09-24T18:41:25.640061Z"
    },
    "papermill": {
     "duration": 1.120512,
     "end_time": "2021-09-24T19:31:05.781809",
     "exception": false,
     "start_time": "2021-09-24T19:31:04.661297",
     "status": "completed"
    },
    "tags": []
   },
   "outputs": [
    {
     "name": "stderr",
     "output_type": "stream",
     "text": [
      "<frozen importlib._bootstrap>:219: RuntimeWarning: scipy._lib.messagestream.MessageStream size changed, may indicate binary incompatibility. Expected 56 from C header, got 64 from PyObject\n"
     ]
    }
   ],
   "source": [
    "# This Python 3 environment comes with many helpful analytics libraries installed\n",
    "# It is defined by the kaggle/python Docker image: https://github.com/kaggle/docker-python\n",
    "# For example, here's several helpful packages to load\n",
    "\n",
    "import numpy as np # linear algebra\n",
    "import pandas as pd # data processing, CSV file I/O (e.g. pd.read_csv)\n",
    "import matplotlib.pyplot as plt\n",
    "import seaborn as sns\n",
    "import warnings\n",
    "warnings.filterwarnings(\"ignore\")\n"
   ]
  },
  {
   "cell_type": "code",
   "execution_count": 2,
   "metadata": {},
   "outputs": [],
   "source": [
    "# Input data files are available in the read-only \"../input/\" directory\n",
    "# For example, running this (by clicking run or pressing Shift+Enter) will list all files under the input directory\n",
    "\n",
    "import os\n",
    "for dirname, _, filenames in os.walk('/Reccomender-system-anime'):\n",
    "    for filename in filenames:\n",
    "        print(os.path.join(dirname, filename))\n",
    "\n",
    "# You can write up to 20GB to the current directory (/kaggle/working/) that gets preserved as output when you create a version using \"Save & Run All\" \n",
    "# You can also write temporary files to /kaggle/temp/, but they won't be saved outside of the current session"
   ]
  },
  {
   "cell_type": "code",
   "execution_count": 3,
   "metadata": {
    "execution": {
     "iopub.execute_input": "2021-09-24T19:31:05.811567Z",
     "iopub.status.busy": "2021-09-24T19:31:05.811107Z",
     "iopub.status.idle": "2021-09-24T19:31:11.063172Z",
     "shell.execute_reply": "2021-09-24T19:31:11.063537Z",
     "shell.execute_reply.started": "2021-09-24T18:41:26.589416Z"
    },
    "papermill": {
     "duration": 5.268402,
     "end_time": "2021-09-24T19:31:11.063704",
     "exception": false,
     "start_time": "2021-09-24T19:31:05.795302",
     "status": "completed"
    },
    "tags": []
   },
   "outputs": [
    {
     "data": {
      "text/html": [
       "<div>\n",
       "<style scoped>\n",
       "    .dataframe tbody tr th:only-of-type {\n",
       "        vertical-align: middle;\n",
       "    }\n",
       "\n",
       "    .dataframe tbody tr th {\n",
       "        vertical-align: top;\n",
       "    }\n",
       "\n",
       "    .dataframe thead th {\n",
       "        text-align: right;\n",
       "    }\n",
       "</style>\n",
       "<table border=\"1\" class=\"dataframe\">\n",
       "  <thead>\n",
       "    <tr style=\"text-align: right;\">\n",
       "      <th></th>\n",
       "      <th>anime_id</th>\n",
       "      <th>name</th>\n",
       "      <th>genre</th>\n",
       "      <th>type</th>\n",
       "      <th>episodes</th>\n",
       "      <th>rating</th>\n",
       "      <th>members</th>\n",
       "    </tr>\n",
       "  </thead>\n",
       "  <tbody>\n",
       "    <tr>\n",
       "      <th>0</th>\n",
       "      <td>32281</td>\n",
       "      <td>Kimi no Na wa.</td>\n",
       "      <td>Drama, Romance, School, Supernatural</td>\n",
       "      <td>Movie</td>\n",
       "      <td>1</td>\n",
       "      <td>9.37</td>\n",
       "      <td>200630</td>\n",
       "    </tr>\n",
       "    <tr>\n",
       "      <th>1</th>\n",
       "      <td>5114</td>\n",
       "      <td>Fullmetal Alchemist: Brotherhood</td>\n",
       "      <td>Action, Adventure, Drama, Fantasy, Magic, Mili...</td>\n",
       "      <td>TV</td>\n",
       "      <td>64</td>\n",
       "      <td>9.26</td>\n",
       "      <td>793665</td>\n",
       "    </tr>\n",
       "    <tr>\n",
       "      <th>2</th>\n",
       "      <td>28977</td>\n",
       "      <td>Gintama°</td>\n",
       "      <td>Action, Comedy, Historical, Parody, Samurai, S...</td>\n",
       "      <td>TV</td>\n",
       "      <td>51</td>\n",
       "      <td>9.25</td>\n",
       "      <td>114262</td>\n",
       "    </tr>\n",
       "  </tbody>\n",
       "</table>\n",
       "</div>"
      ],
      "text/plain": [
       "   anime_id                              name  \\\n",
       "0     32281                    Kimi no Na wa.   \n",
       "1      5114  Fullmetal Alchemist: Brotherhood   \n",
       "2     28977                          Gintama°   \n",
       "\n",
       "                                               genre   type episodes  rating  \\\n",
       "0               Drama, Romance, School, Supernatural  Movie        1    9.37   \n",
       "1  Action, Adventure, Drama, Fantasy, Magic, Mili...     TV       64    9.26   \n",
       "2  Action, Comedy, Historical, Parody, Samurai, S...     TV       51    9.25   \n",
       "\n",
       "   members  \n",
       "0   200630  \n",
       "1   793665  \n",
       "2   114262  "
      ]
     },
     "execution_count": 3,
     "metadata": {},
     "output_type": "execute_result"
    }
   ],
   "source": [
    "df = pd.read_csv('anime.csv')\n",
    "df.head(3)"
   ]
  },
  {
   "cell_type": "code",
   "execution_count": 4,
   "metadata": {},
   "outputs": [
    {
     "data": {
      "text/html": [
       "<div>\n",
       "<style scoped>\n",
       "    .dataframe tbody tr th:only-of-type {\n",
       "        vertical-align: middle;\n",
       "    }\n",
       "\n",
       "    .dataframe tbody tr th {\n",
       "        vertical-align: top;\n",
       "    }\n",
       "\n",
       "    .dataframe thead th {\n",
       "        text-align: right;\n",
       "    }\n",
       "</style>\n",
       "<table border=\"1\" class=\"dataframe\">\n",
       "  <thead>\n",
       "    <tr style=\"text-align: right;\">\n",
       "      <th></th>\n",
       "      <th>user_id</th>\n",
       "      <th>anime_id</th>\n",
       "      <th>rating</th>\n",
       "    </tr>\n",
       "  </thead>\n",
       "  <tbody>\n",
       "    <tr>\n",
       "      <th>0</th>\n",
       "      <td>1</td>\n",
       "      <td>20</td>\n",
       "      <td>-1</td>\n",
       "    </tr>\n",
       "    <tr>\n",
       "      <th>1</th>\n",
       "      <td>1</td>\n",
       "      <td>24</td>\n",
       "      <td>-1</td>\n",
       "    </tr>\n",
       "    <tr>\n",
       "      <th>2</th>\n",
       "      <td>1</td>\n",
       "      <td>79</td>\n",
       "      <td>-1</td>\n",
       "    </tr>\n",
       "  </tbody>\n",
       "</table>\n",
       "</div>"
      ],
      "text/plain": [
       "   user_id  anime_id  rating\n",
       "0        1        20      -1\n",
       "1        1        24      -1\n",
       "2        1        79      -1"
      ]
     },
     "execution_count": 4,
     "metadata": {},
     "output_type": "execute_result"
    }
   ],
   "source": [
    "df2 = pd.read_csv('rating-database/rating.csv')\n",
    "df2.head(3)"
   ]
  },
  {
   "cell_type": "code",
   "execution_count": 5,
   "metadata": {},
   "outputs": [
    {
     "data": {
      "text/html": [
       "<div>\n",
       "<style scoped>\n",
       "    .dataframe tbody tr th:only-of-type {\n",
       "        vertical-align: middle;\n",
       "    }\n",
       "\n",
       "    .dataframe tbody tr th {\n",
       "        vertical-align: top;\n",
       "    }\n",
       "\n",
       "    .dataframe thead th {\n",
       "        text-align: right;\n",
       "    }\n",
       "</style>\n",
       "<table border=\"1\" class=\"dataframe\">\n",
       "  <thead>\n",
       "    <tr style=\"text-align: right;\">\n",
       "      <th></th>\n",
       "      <th>anime_id</th>\n",
       "      <th>name</th>\n",
       "      <th>genre</th>\n",
       "      <th>type</th>\n",
       "      <th>episodes</th>\n",
       "      <th>rating_x</th>\n",
       "      <th>members</th>\n",
       "      <th>user_id</th>\n",
       "      <th>rating_y</th>\n",
       "    </tr>\n",
       "  </thead>\n",
       "  <tbody>\n",
       "    <tr>\n",
       "      <th>0</th>\n",
       "      <td>32281</td>\n",
       "      <td>Kimi no Na wa.</td>\n",
       "      <td>Drama, Romance, School, Supernatural</td>\n",
       "      <td>Movie</td>\n",
       "      <td>1</td>\n",
       "      <td>9.37</td>\n",
       "      <td>200630</td>\n",
       "      <td>99</td>\n",
       "      <td>5</td>\n",
       "    </tr>\n",
       "    <tr>\n",
       "      <th>1</th>\n",
       "      <td>32281</td>\n",
       "      <td>Kimi no Na wa.</td>\n",
       "      <td>Drama, Romance, School, Supernatural</td>\n",
       "      <td>Movie</td>\n",
       "      <td>1</td>\n",
       "      <td>9.37</td>\n",
       "      <td>200630</td>\n",
       "      <td>152</td>\n",
       "      <td>10</td>\n",
       "    </tr>\n",
       "    <tr>\n",
       "      <th>2</th>\n",
       "      <td>32281</td>\n",
       "      <td>Kimi no Na wa.</td>\n",
       "      <td>Drama, Romance, School, Supernatural</td>\n",
       "      <td>Movie</td>\n",
       "      <td>1</td>\n",
       "      <td>9.37</td>\n",
       "      <td>200630</td>\n",
       "      <td>244</td>\n",
       "      <td>10</td>\n",
       "    </tr>\n",
       "    <tr>\n",
       "      <th>3</th>\n",
       "      <td>32281</td>\n",
       "      <td>Kimi no Na wa.</td>\n",
       "      <td>Drama, Romance, School, Supernatural</td>\n",
       "      <td>Movie</td>\n",
       "      <td>1</td>\n",
       "      <td>9.37</td>\n",
       "      <td>200630</td>\n",
       "      <td>271</td>\n",
       "      <td>10</td>\n",
       "    </tr>\n",
       "    <tr>\n",
       "      <th>4</th>\n",
       "      <td>32281</td>\n",
       "      <td>Kimi no Na wa.</td>\n",
       "      <td>Drama, Romance, School, Supernatural</td>\n",
       "      <td>Movie</td>\n",
       "      <td>1</td>\n",
       "      <td>9.37</td>\n",
       "      <td>200630</td>\n",
       "      <td>278</td>\n",
       "      <td>-1</td>\n",
       "    </tr>\n",
       "  </tbody>\n",
       "</table>\n",
       "</div>"
      ],
      "text/plain": [
       "   anime_id            name                                 genre   type  \\\n",
       "0     32281  Kimi no Na wa.  Drama, Romance, School, Supernatural  Movie   \n",
       "1     32281  Kimi no Na wa.  Drama, Romance, School, Supernatural  Movie   \n",
       "2     32281  Kimi no Na wa.  Drama, Romance, School, Supernatural  Movie   \n",
       "3     32281  Kimi no Na wa.  Drama, Romance, School, Supernatural  Movie   \n",
       "4     32281  Kimi no Na wa.  Drama, Romance, School, Supernatural  Movie   \n",
       "\n",
       "  episodes  rating_x  members  user_id  rating_y  \n",
       "0        1      9.37   200630       99         5  \n",
       "1        1      9.37   200630      152        10  \n",
       "2        1      9.37   200630      244        10  \n",
       "3        1      9.37   200630      271        10  \n",
       "4        1      9.37   200630      278        -1  "
      ]
     },
     "execution_count": 5,
     "metadata": {},
     "output_type": "execute_result"
    }
   ],
   "source": [
    "# Its a snowflake data schemea just to reduce the overhead of analytics part\n",
    "# menghubungkan dua tabel dengan kondisi id yang sama\n",
    "data = pd.merge(df,df2,on='anime_id')\n",
    "data.head()"
   ]
  },
  {
   "cell_type": "code",
   "execution_count": 6,
   "metadata": {},
   "outputs": [
    {
     "name": "stdout",
     "output_type": "stream",
     "text": [
      "<class 'pandas.core.frame.DataFrame'>\n",
      "Int64Index: 7813727 entries, 0 to 7813726\n",
      "Data columns (total 9 columns):\n",
      " #   Column    Dtype  \n",
      "---  ------    -----  \n",
      " 0   anime_id  int64  \n",
      " 1   name      object \n",
      " 2   genre     object \n",
      " 3   type      object \n",
      " 4   episodes  object \n",
      " 5   rating_x  float64\n",
      " 6   members   int64  \n",
      " 7   user_id   int64  \n",
      " 8   rating_y  int64  \n",
      "dtypes: float64(1), int64(4), object(4)\n",
      "memory usage: 596.1+ MB\n"
     ]
    }
   ],
   "source": [
    "# info tabel data\n",
    "data.info()"
   ]
  },
  {
   "cell_type": "code",
   "execution_count": 12,
   "metadata": {},
   "outputs": [
    {
     "data": {
      "text/html": [
       "<div>\n",
       "<style scoped>\n",
       "    .dataframe tbody tr th:only-of-type {\n",
       "        vertical-align: middle;\n",
       "    }\n",
       "\n",
       "    .dataframe tbody tr th {\n",
       "        vertical-align: top;\n",
       "    }\n",
       "\n",
       "    .dataframe thead th {\n",
       "        text-align: right;\n",
       "    }\n",
       "</style>\n",
       "<table border=\"1\" class=\"dataframe\">\n",
       "  <thead>\n",
       "    <tr style=\"text-align: right;\">\n",
       "      <th></th>\n",
       "      <th>anime_id</th>\n",
       "      <th>name</th>\n",
       "      <th>genre</th>\n",
       "      <th>type</th>\n",
       "      <th>episodes</th>\n",
       "      <th>rating_x</th>\n",
       "      <th>members</th>\n",
       "      <th>user_id</th>\n",
       "      <th>rating_y</th>\n",
       "    </tr>\n",
       "  </thead>\n",
       "  <tbody>\n",
       "    <tr>\n",
       "      <th>0</th>\n",
       "      <td>32281</td>\n",
       "      <td>Kimi no Na wa.</td>\n",
       "      <td>Drama, Romance, School, Supernatural</td>\n",
       "      <td>Movie</td>\n",
       "      <td>1</td>\n",
       "      <td>9.37</td>\n",
       "      <td>200630</td>\n",
       "      <td>99</td>\n",
       "      <td>5</td>\n",
       "    </tr>\n",
       "    <tr>\n",
       "      <th>1</th>\n",
       "      <td>32281</td>\n",
       "      <td>Kimi no Na wa.</td>\n",
       "      <td>Drama, Romance, School, Supernatural</td>\n",
       "      <td>Movie</td>\n",
       "      <td>1</td>\n",
       "      <td>9.37</td>\n",
       "      <td>200630</td>\n",
       "      <td>152</td>\n",
       "      <td>10</td>\n",
       "    </tr>\n",
       "    <tr>\n",
       "      <th>2</th>\n",
       "      <td>32281</td>\n",
       "      <td>Kimi no Na wa.</td>\n",
       "      <td>Drama, Romance, School, Supernatural</td>\n",
       "      <td>Movie</td>\n",
       "      <td>1</td>\n",
       "      <td>9.37</td>\n",
       "      <td>200630</td>\n",
       "      <td>244</td>\n",
       "      <td>10</td>\n",
       "    </tr>\n",
       "  </tbody>\n",
       "</table>\n",
       "</div>"
      ],
      "text/plain": [
       "   anime_id            name                                 genre   type  \\\n",
       "0     32281  Kimi no Na wa.  Drama, Romance, School, Supernatural  Movie   \n",
       "1     32281  Kimi no Na wa.  Drama, Romance, School, Supernatural  Movie   \n",
       "2     32281  Kimi no Na wa.  Drama, Romance, School, Supernatural  Movie   \n",
       "\n",
       "  episodes  rating_x  members  user_id  rating_y  \n",
       "0        1      9.37   200630       99         5  \n",
       "1        1      9.37   200630      152        10  \n",
       "2        1      9.37   200630      244        10  "
      ]
     },
     "execution_count": 12,
     "metadata": {},
     "output_type": "execute_result"
    }
   ],
   "source": [
    "data.drop(['rating_x','episodes'], axis=1)\n",
    "data.head(3)"
   ]
  },
  {
   "cell_type": "code",
   "execution_count": 7,
   "metadata": {},
   "outputs": [
    {
     "name": "stdout",
     "output_type": "stream",
     "text": [
      "TV         5283596\n",
      "Movie      1051998\n",
      "OVA         800307\n",
      "Special     559366\n",
      "ONA          91956\n",
      "Music        26500\n",
      "Name: type, dtype: int64\n"
     ]
    },
    {
     "data": {
      "image/png": "[encoded data removed]",
      "text/plain": [
       "<Figure size 432x288 with 1 Axes>"
      ]
     },
     "metadata": {
      "needs_background": "light"
     },
     "output_type": "display_data"
    }
   ],
   "source": [
    "# melihat distribusi data berdasarkan tipe\n",
    "sns.countplot(y='type', data=data)\n",
    "\n",
    "# menghitung banyak nya data berdasarkan tipe animenya\n",
    "print(data['type'].value_counts())"
   ]
  },
  {
   "cell_type": "code",
   "execution_count": 8,
   "metadata": {},
   "outputs": [
    {
     "data": {
      "text/plain": [
       "<AxesSubplot:xlabel='count', ylabel='type'>"
      ]
     },
     "execution_count": 8,
     "metadata": {},
     "output_type": "execute_result"
    },
    {
     "data": {
      "image/png": "[encoded data removed]",
      "text/plain": [
       "<Figure size 432x288 with 1 Axes>"
      ]
     },
     "metadata": {
      "needs_background": "light"
     },
     "output_type": "display_data"
    }
   ],
   "source": [
    "# membuat dataframe yang hanya berisi anime tanpa tipe musik\n",
    "data = data[data['type'] != 'Music']\n",
    "\n",
    "# membuat dataframe dengan data yang tanpa tipe ONA\n",
    "data1 = data[data['type'] != 'ONA']\n",
    "\n",
    "# menampilkan grafik anime tanpa tipe ONA dan music\n",
    "sns.countplot(y='type', data=data1)"
   ]
  },
  {
   "cell_type": "code",
   "execution_count": 9,
   "metadata": {
    "execution": {
     "iopub.execute_input": "2021-09-24T19:31:11.097945Z",
     "iopub.status.busy": "2021-09-24T19:31:11.094549Z",
     "iopub.status.idle": "2021-09-24T19:31:18.163095Z",
     "shell.execute_reply": "2021-09-24T19:31:18.162462Z",
     "shell.execute_reply.started": "2021-09-24T18:41:31.357186Z"
    },
    "papermill": {
     "duration": 7.085781,
     "end_time": "2021-09-24T19:31:18.163218",
     "exception": false,
     "start_time": "2021-09-24T19:31:11.077437",
     "status": "completed"
    },
    "tags": []
   },
   "outputs": [
    {
     "data": {
      "text/html": [
       "<div>\n",
       "<style scoped>\n",
       "    .dataframe tbody tr th:only-of-type {\n",
       "        vertical-align: middle;\n",
       "    }\n",
       "\n",
       "    .dataframe tbody tr th {\n",
       "        vertical-align: top;\n",
       "    }\n",
       "\n",
       "    .dataframe thead th {\n",
       "        text-align: right;\n",
       "    }\n",
       "</style>\n",
       "<table border=\"1\" class=\"dataframe\">\n",
       "  <thead>\n",
       "    <tr style=\"text-align: right;\">\n",
       "      <th></th>\n",
       "      <th>anime_id</th>\n",
       "      <th>name</th>\n",
       "      <th>genre</th>\n",
       "      <th>type</th>\n",
       "      <th>episodes</th>\n",
       "      <th>rating_x</th>\n",
       "      <th>members</th>\n",
       "      <th>user_id</th>\n",
       "      <th>rating_y</th>\n",
       "    </tr>\n",
       "  </thead>\n",
       "  <tbody>\n",
       "    <tr>\n",
       "      <th>0</th>\n",
       "      <td>32281</td>\n",
       "      <td>Kimi no Na wa.</td>\n",
       "      <td>Drama, Romance, School, Supernatural</td>\n",
       "      <td>Movie</td>\n",
       "      <td>1</td>\n",
       "      <td>9.37</td>\n",
       "      <td>200630</td>\n",
       "      <td>99</td>\n",
       "      <td>5</td>\n",
       "    </tr>\n",
       "    <tr>\n",
       "      <th>1</th>\n",
       "      <td>32281</td>\n",
       "      <td>Kimi no Na wa.</td>\n",
       "      <td>Drama, Romance, School, Supernatural</td>\n",
       "      <td>Movie</td>\n",
       "      <td>1</td>\n",
       "      <td>9.37</td>\n",
       "      <td>200630</td>\n",
       "      <td>152</td>\n",
       "      <td>10</td>\n",
       "    </tr>\n",
       "    <tr>\n",
       "      <th>2</th>\n",
       "      <td>32281</td>\n",
       "      <td>Kimi no Na wa.</td>\n",
       "      <td>Drama, Romance, School, Supernatural</td>\n",
       "      <td>Movie</td>\n",
       "      <td>1</td>\n",
       "      <td>9.37</td>\n",
       "      <td>200630</td>\n",
       "      <td>244</td>\n",
       "      <td>10</td>\n",
       "    </tr>\n",
       "    <tr>\n",
       "      <th>3</th>\n",
       "      <td>32281</td>\n",
       "      <td>Kimi no Na wa.</td>\n",
       "      <td>Drama, Romance, School, Supernatural</td>\n",
       "      <td>Movie</td>\n",
       "      <td>1</td>\n",
       "      <td>9.37</td>\n",
       "      <td>200630</td>\n",
       "      <td>271</td>\n",
       "      <td>10</td>\n",
       "    </tr>\n",
       "    <tr>\n",
       "      <th>4</th>\n",
       "      <td>32281</td>\n",
       "      <td>Kimi no Na wa.</td>\n",
       "      <td>Drama, Romance, School, Supernatural</td>\n",
       "      <td>Movie</td>\n",
       "      <td>1</td>\n",
       "      <td>9.37</td>\n",
       "      <td>200630</td>\n",
       "      <td>278</td>\n",
       "      <td>-1</td>\n",
       "    </tr>\n",
       "  </tbody>\n",
       "</table>\n",
       "</div>"
      ],
      "text/plain": [
       "   anime_id            name                                 genre   type  \\\n",
       "0     32281  Kimi no Na wa.  Drama, Romance, School, Supernatural  Movie   \n",
       "1     32281  Kimi no Na wa.  Drama, Romance, School, Supernatural  Movie   \n",
       "2     32281  Kimi no Na wa.  Drama, Romance, School, Supernatural  Movie   \n",
       "3     32281  Kimi no Na wa.  Drama, Romance, School, Supernatural  Movie   \n",
       "4     32281  Kimi no Na wa.  Drama, Romance, School, Supernatural  Movie   \n",
       "\n",
       "  episodes  rating_x  members  user_id  rating_y  \n",
       "0        1      9.37   200630       99         5  \n",
       "1        1      9.37   200630      152        10  \n",
       "2        1      9.37   200630      244        10  \n",
       "3        1      9.37   200630      271        10  \n",
       "4        1      9.37   200630      278        -1  "
      ]
     },
     "execution_count": 9,
     "metadata": {},
     "output_type": "execute_result"
    }
   ],
   "source": [
    "# membuat dataframe anime bertipe movie\n",
    "data_movie = data1[data1['type'] == 'Movie']\n",
    "\n",
    "# membuat dataframe anime bertipe TV\n",
    "data_tv = data1[data1['type'] == 'TV']\n",
    "\n",
    "# membuat dataframe anime bertipe special\n",
    "data_special = data1[data1['type'] == 'Special']\n",
    "\n",
    "# menampilkan data anime hanya bertipe movie\n",
    "data_movie.head()"
   ]
  },
  {
   "cell_type": "code",
   "execution_count": 10,
   "metadata": {
    "execution": {
     "iopub.execute_input": "2021-09-24T19:31:18.213951Z",
     "iopub.status.busy": "2021-09-24T19:31:18.213204Z",
     "iopub.status.idle": "2021-09-24T19:31:18.273847Z",
     "shell.execute_reply": "2021-09-24T19:31:18.273224Z",
     "shell.execute_reply.started": "2021-09-24T18:41:39.586324Z"
    },
    "papermill": {
     "duration": 0.089919,
     "end_time": "2021-09-24T19:31:18.273971",
     "exception": false,
     "start_time": "2021-09-24T19:31:18.184052",
     "status": "completed"
    },
    "tags": []
   },
   "outputs": [
    {
     "data": {
      "text/html": [
       "<div>\n",
       "<style scoped>\n",
       "    .dataframe tbody tr th:only-of-type {\n",
       "        vertical-align: middle;\n",
       "    }\n",
       "\n",
       "    .dataframe tbody tr th {\n",
       "        vertical-align: top;\n",
       "    }\n",
       "\n",
       "    .dataframe thead th {\n",
       "        text-align: right;\n",
       "    }\n",
       "</style>\n",
       "<table border=\"1\" class=\"dataframe\">\n",
       "  <thead>\n",
       "    <tr style=\"text-align: right;\">\n",
       "      <th></th>\n",
       "      <th>anime_id</th>\n",
       "      <th>name</th>\n",
       "      <th>genre</th>\n",
       "      <th>type</th>\n",
       "      <th>episodes</th>\n",
       "      <th>rating_x</th>\n",
       "      <th>members</th>\n",
       "      <th>user_id</th>\n",
       "      <th>rating_y</th>\n",
       "      <th>Average_rating</th>\n",
       "    </tr>\n",
       "  </thead>\n",
       "  <tbody>\n",
       "    <tr>\n",
       "      <th>0</th>\n",
       "      <td>32281</td>\n",
       "      <td>Kimi no Na wa.</td>\n",
       "      <td>Drama, Romance, School, Supernatural</td>\n",
       "      <td>Movie</td>\n",
       "      <td>1</td>\n",
       "      <td>9.37</td>\n",
       "      <td>200630</td>\n",
       "      <td>99</td>\n",
       "      <td>5</td>\n",
       "      <td>7.0</td>\n",
       "    </tr>\n",
       "    <tr>\n",
       "      <th>1</th>\n",
       "      <td>32281</td>\n",
       "      <td>Kimi no Na wa.</td>\n",
       "      <td>Drama, Romance, School, Supernatural</td>\n",
       "      <td>Movie</td>\n",
       "      <td>1</td>\n",
       "      <td>9.37</td>\n",
       "      <td>200630</td>\n",
       "      <td>152</td>\n",
       "      <td>10</td>\n",
       "      <td>9.0</td>\n",
       "    </tr>\n",
       "    <tr>\n",
       "      <th>2</th>\n",
       "      <td>32281</td>\n",
       "      <td>Kimi no Na wa.</td>\n",
       "      <td>Drama, Romance, School, Supernatural</td>\n",
       "      <td>Movie</td>\n",
       "      <td>1</td>\n",
       "      <td>9.37</td>\n",
       "      <td>200630</td>\n",
       "      <td>244</td>\n",
       "      <td>10</td>\n",
       "      <td>9.0</td>\n",
       "    </tr>\n",
       "    <tr>\n",
       "      <th>3</th>\n",
       "      <td>32281</td>\n",
       "      <td>Kimi no Na wa.</td>\n",
       "      <td>Drama, Romance, School, Supernatural</td>\n",
       "      <td>Movie</td>\n",
       "      <td>1</td>\n",
       "      <td>9.37</td>\n",
       "      <td>200630</td>\n",
       "      <td>271</td>\n",
       "      <td>10</td>\n",
       "      <td>9.0</td>\n",
       "    </tr>\n",
       "    <tr>\n",
       "      <th>4</th>\n",
       "      <td>32281</td>\n",
       "      <td>Kimi no Na wa.</td>\n",
       "      <td>Drama, Romance, School, Supernatural</td>\n",
       "      <td>Movie</td>\n",
       "      <td>1</td>\n",
       "      <td>9.37</td>\n",
       "      <td>200630</td>\n",
       "      <td>278</td>\n",
       "      <td>-1</td>\n",
       "      <td>4.0</td>\n",
       "    </tr>\n",
       "    <tr>\n",
       "      <th>...</th>\n",
       "      <td>...</td>\n",
       "      <td>...</td>\n",
       "      <td>...</td>\n",
       "      <td>...</td>\n",
       "      <td>...</td>\n",
       "      <td>...</td>\n",
       "      <td>...</td>\n",
       "      <td>...</td>\n",
       "      <td>...</td>\n",
       "      <td>...</td>\n",
       "    </tr>\n",
       "    <tr>\n",
       "      <th>7813575</th>\n",
       "      <td>11141</td>\n",
       "      <td>Blue Seagull</td>\n",
       "      <td>Action, Hentai</td>\n",
       "      <td>Movie</td>\n",
       "      <td>1</td>\n",
       "      <td>4.60</td>\n",
       "      <td>337</td>\n",
       "      <td>68508</td>\n",
       "      <td>6</td>\n",
       "      <td>5.0</td>\n",
       "    </tr>\n",
       "    <tr>\n",
       "      <th>7813650</th>\n",
       "      <td>20007</td>\n",
       "      <td>Hi Gekiga Ukiyoe Senya Ichiya</td>\n",
       "      <td>Action, Hentai</td>\n",
       "      <td>Movie</td>\n",
       "      <td>1</td>\n",
       "      <td>1.92</td>\n",
       "      <td>129</td>\n",
       "      <td>27364</td>\n",
       "      <td>-1</td>\n",
       "      <td>0.0</td>\n",
       "    </tr>\n",
       "    <tr>\n",
       "      <th>7813651</th>\n",
       "      <td>20007</td>\n",
       "      <td>Hi Gekiga Ukiyoe Senya Ichiya</td>\n",
       "      <td>Action, Hentai</td>\n",
       "      <td>Movie</td>\n",
       "      <td>1</td>\n",
       "      <td>1.92</td>\n",
       "      <td>129</td>\n",
       "      <td>48766</td>\n",
       "      <td>-1</td>\n",
       "      <td>0.0</td>\n",
       "    </tr>\n",
       "    <tr>\n",
       "      <th>7813725</th>\n",
       "      <td>26081</td>\n",
       "      <td>Yasuji no Pornorama: Yacchimae!!</td>\n",
       "      <td>Hentai</td>\n",
       "      <td>Movie</td>\n",
       "      <td>1</td>\n",
       "      <td>5.46</td>\n",
       "      <td>142</td>\n",
       "      <td>27364</td>\n",
       "      <td>-1</td>\n",
       "      <td>2.0</td>\n",
       "    </tr>\n",
       "    <tr>\n",
       "      <th>7813726</th>\n",
       "      <td>26081</td>\n",
       "      <td>Yasuji no Pornorama: Yacchimae!!</td>\n",
       "      <td>Hentai</td>\n",
       "      <td>Movie</td>\n",
       "      <td>1</td>\n",
       "      <td>5.46</td>\n",
       "      <td>142</td>\n",
       "      <td>48766</td>\n",
       "      <td>-1</td>\n",
       "      <td>2.0</td>\n",
       "    </tr>\n",
       "  </tbody>\n",
       "</table>\n",
       "<p>1051998 rows × 10 columns</p>\n",
       "</div>"
      ],
      "text/plain": [
       "         anime_id                              name  \\\n",
       "0           32281                    Kimi no Na wa.   \n",
       "1           32281                    Kimi no Na wa.   \n",
       "2           32281                    Kimi no Na wa.   \n",
       "3           32281                    Kimi no Na wa.   \n",
       "4           32281                    Kimi no Na wa.   \n",
       "...           ...                               ...   \n",
       "7813575     11141                      Blue Seagull   \n",
       "7813650     20007     Hi Gekiga Ukiyoe Senya Ichiya   \n",
       "7813651     20007     Hi Gekiga Ukiyoe Senya Ichiya   \n",
       "7813725     26081  Yasuji no Pornorama: Yacchimae!!   \n",
       "7813726     26081  Yasuji no Pornorama: Yacchimae!!   \n",
       "\n",
       "                                        genre   type episodes  rating_x  \\\n",
       "0        Drama, Romance, School, Supernatural  Movie        1      9.37   \n",
       "1        Drama, Romance, School, Supernatural  Movie        1      9.37   \n",
       "2        Drama, Romance, School, Supernatural  Movie        1      9.37   \n",
       "3        Drama, Romance, School, Supernatural  Movie        1      9.37   \n",
       "4        Drama, Romance, School, Supernatural  Movie        1      9.37   \n",
       "...                                       ...    ...      ...       ...   \n",
       "7813575                        Action, Hentai  Movie        1      4.60   \n",
       "7813650                        Action, Hentai  Movie        1      1.92   \n",
       "7813651                        Action, Hentai  Movie        1      1.92   \n",
       "7813725                                Hentai  Movie        1      5.46   \n",
       "7813726                                Hentai  Movie        1      5.46   \n",
       "\n",
       "         members  user_id  rating_y  Average_rating  \n",
       "0         200630       99         5             7.0  \n",
       "1         200630      152        10             9.0  \n",
       "2         200630      244        10             9.0  \n",
       "3         200630      271        10             9.0  \n",
       "4         200630      278        -1             4.0  \n",
       "...          ...      ...       ...             ...  \n",
       "7813575      337    68508         6             5.0  \n",
       "7813650      129    27364        -1             0.0  \n",
       "7813651      129    48766        -1             0.0  \n",
       "7813725      142    27364        -1             2.0  \n",
       "7813726      142    48766        -1             2.0  \n",
       "\n",
       "[1051998 rows x 10 columns]"
      ]
     },
     "execution_count": 10,
     "metadata": {},
     "output_type": "execute_result"
    }
   ],
   "source": [
    "# lets make a new columns for the average rating including the imdb and customer rating.\n",
    "# membuat kolom baru rata rata rating anime bertipe movie\n",
    "data_movie[\"Average_rating\"] = (data_movie['rating_x'] + data_movie['rating_y'])//2\n",
    "data_movie"
   ]
  },
  {
   "cell_type": "code",
   "execution_count": null,
   "metadata": {},
   "outputs": [],
   "source": [
    "# newd=data_movie.['rating_y']\n",
    "# (data_movie.groupby(\"name\")['rating_y']+data_movie.groupby(\"name\")['rating_x']).mean().sort_values(ascending=False)"
   ]
  },
  {
   "cell_type": "code",
   "execution_count": 14,
   "metadata": {},
   "outputs": [
    {
     "data": {
      "text/plain": [
       "name\n",
       "Sen to Chihiro no Kamikakushi    22974\n",
       "Howl no Ugoku Shiro              17258\n",
       "Mononoke Hime                    16303\n",
       "Byousoku 5 Centimeter            14304\n",
       "Toki wo Kakeru Shoujo            13053\n",
       "                                 ...  \n",
       "TWD Express Rolling Takeoff          1\n",
       "Syupeo Taegwon V                     1\n",
       "Qi Cai Lao Fu Zi                     1\n",
       "No Game No Life Movie                0\n",
       "Cencoroll 2                          0\n",
       "Name: Average_rating, Length: 2142, dtype: int64"
      ]
     },
     "execution_count": 14,
     "metadata": {},
     "output_type": "execute_result"
    }
   ],
   "source": [
    "# Melihat banyaknya user yang merating/menilai anime bertipe movie\n",
    "data_movie.groupby(\"name\")['Average_rating'].count().sort_values(ascending=False)"
   ]
  },
  {
   "cell_type": "code",
   "execution_count": 16,
   "metadata": {
    "execution": {
     "iopub.execute_input": "2021-09-24T19:31:18.414167Z",
     "iopub.status.busy": "2021-09-24T19:31:18.369594Z",
     "iopub.status.idle": "2021-09-24T19:31:18.849392Z",
     "shell.execute_reply": "2021-09-24T19:31:18.848867Z",
     "shell.execute_reply.started": "2021-09-24T18:41:39.644223Z"
    },
    "papermill": {
     "duration": 0.554017,
     "end_time": "2021-09-24T19:31:18.849525",
     "exception": false,
     "start_time": "2021-09-24T19:31:18.295508",
     "status": "completed"
    },
    "tags": []
   },
   "outputs": [
    {
     "data": {
      "text/html": [
       "<div>\n",
       "<style scoped>\n",
       "    .dataframe tbody tr th:only-of-type {\n",
       "        vertical-align: middle;\n",
       "    }\n",
       "\n",
       "    .dataframe tbody tr th {\n",
       "        vertical-align: top;\n",
       "    }\n",
       "\n",
       "    .dataframe thead th {\n",
       "        text-align: right;\n",
       "    }\n",
       "</style>\n",
       "<table border=\"1\" class=\"dataframe\">\n",
       "  <thead>\n",
       "    <tr style=\"text-align: right;\">\n",
       "      <th></th>\n",
       "      <th>Average_rating</th>\n",
       "    </tr>\n",
       "    <tr>\n",
       "      <th>name</th>\n",
       "      <th></th>\n",
       "    </tr>\n",
       "  </thead>\n",
       "  <tbody>\n",
       "    <tr>\n",
       "      <th>Kimi no Na wa.</th>\n",
       "      <td>8.324693</td>\n",
       "    </tr>\n",
       "    <tr>\n",
       "      <th>Gintama Movie: Kanketsu-hen - Yorozuya yo Eien Nare</th>\n",
       "      <td>8.044752</td>\n",
       "    </tr>\n",
       "    <tr>\n",
       "      <th>Koe no Katachi</th>\n",
       "      <td>7.636364</td>\n",
       "    </tr>\n",
       "    <tr>\n",
       "      <th>Ookami Kodomo no Ame to Yuki</th>\n",
       "      <td>7.522247</td>\n",
       "    </tr>\n",
       "    <tr>\n",
       "      <th>Suzumiya Haruhi no Shoushitsu</th>\n",
       "      <td>7.486216</td>\n",
       "    </tr>\n",
       "    <tr>\n",
       "      <th>...</th>\n",
       "      <td>...</td>\n",
       "    </tr>\n",
       "    <tr>\n",
       "      <th>Doubutsu Olympic Taikai</th>\n",
       "      <td>1.000000</td>\n",
       "    </tr>\n",
       "    <tr>\n",
       "      <th>Henkei Sakuhin Dai 1-ban</th>\n",
       "      <td>1.000000</td>\n",
       "    </tr>\n",
       "    <tr>\n",
       "      <th>Hi Gekiga Ukiyoe Senya Ichiya</th>\n",
       "      <td>0.000000</td>\n",
       "    </tr>\n",
       "    <tr>\n",
       "      <th>Cencoroll 2</th>\n",
       "      <td>NaN</td>\n",
       "    </tr>\n",
       "    <tr>\n",
       "      <th>No Game No Life Movie</th>\n",
       "      <td>NaN</td>\n",
       "    </tr>\n",
       "  </tbody>\n",
       "</table>\n",
       "<p>2142 rows × 1 columns</p>\n",
       "</div>"
      ],
      "text/plain": [
       "                                                    Average_rating\n",
       "name                                                              \n",
       "Kimi no Na wa.                                            8.324693\n",
       "Gintama Movie: Kanketsu-hen - Yorozuya yo Eien ...        8.044752\n",
       "Koe no Katachi                                            7.636364\n",
       "Ookami Kodomo no Ame to Yuki                              7.522247\n",
       "Suzumiya Haruhi no Shoushitsu                             7.486216\n",
       "...                                                            ...\n",
       "Doubutsu Olympic Taikai                                   1.000000\n",
       "Henkei Sakuhin Dai 1-ban                                  1.000000\n",
       "Hi Gekiga Ukiyoe Senya Ichiya                             0.000000\n",
       "Cencoroll 2                                                    NaN\n",
       "No Game No Life Movie                                          NaN\n",
       "\n",
       "[2142 rows x 1 columns]"
      ]
     },
     "execution_count": 16,
     "metadata": {},
     "output_type": "execute_result"
    }
   ],
   "source": [
    "# membuat dataframe final untuk meninjau movie berdasarkan rata rata dari Average rating\n",
    "final=pd.DataFrame(data_movie.groupby(\"name\")['Average_rating'].mean().sort_values(ascending=False))\n",
    "final"
   ]
  },
  {
   "cell_type": "code",
   "execution_count": 17,
   "metadata": {},
   "outputs": [
    {
     "data": {
      "text/plain": [
       "name\n",
       "Sen to Chihiro no Kamikakushi                       22974\n",
       "Howl no Ugoku Shiro                                 17258\n",
       "Mononoke Hime                                       16303\n",
       "Byousoku 5 Centimeter                               14304\n",
       "Toki wo Kakeru Shoujo                               13053\n",
       "                                                    ...  \n",
       "Taabou no Ryuuguusei Daitanken                          1\n",
       "Kuripuri*Kuripura                                       1\n",
       "TWD Express Rolling Takeoff                             1\n",
       "Syupeo Taegwon V                                        1\n",
       "Sore Ike! Anpanman: Anpanman to Okashi na Nakama        1\n",
       "Name: rating_y, Length: 2142, dtype: int64"
      ]
     },
     "execution_count": 17,
     "metadata": {},
     "output_type": "execute_result"
    }
   ],
   "source": [
    "# melihat jumlah rating anime berdasarkan rating user (rating_y) #banyak nya user yang melakukan penilaian\n",
    "data_movie.groupby(\"name\")['rating_y'].count().sort_values(ascending=False)"
   ]
  },
  {
   "cell_type": "code",
   "execution_count": 18,
   "metadata": {},
   "outputs": [],
   "source": [
    "# menambahkan kolom baru 'no_of_rating' (banyaknya user yang melakukan penilaian)\n",
    "final['no_of_ratings'] = data_movie.groupby(\"name\")['rating_y'].count().sort_values(ascending=False)"
   ]
  },
  {
   "cell_type": "code",
   "execution_count": 19,
   "metadata": {
    "execution": {
     "iopub.execute_input": "2021-09-24T19:31:18.901896Z",
     "iopub.status.busy": "2021-09-24T19:31:18.901145Z",
     "iopub.status.idle": "2021-09-24T19:31:18.904848Z",
     "shell.execute_reply": "2021-09-24T19:31:18.904278Z",
     "shell.execute_reply.started": "2021-09-24T18:41:40.107867Z"
    },
    "papermill": {
     "duration": 0.033976,
     "end_time": "2021-09-24T19:31:18.904975",
     "exception": false,
     "start_time": "2021-09-24T19:31:18.870999",
     "status": "completed"
    },
    "tags": []
   },
   "outputs": [
    {
     "data": {
      "text/html": [
       "<div>\n",
       "<style scoped>\n",
       "    .dataframe tbody tr th:only-of-type {\n",
       "        vertical-align: middle;\n",
       "    }\n",
       "\n",
       "    .dataframe tbody tr th {\n",
       "        vertical-align: top;\n",
       "    }\n",
       "\n",
       "    .dataframe thead th {\n",
       "        text-align: right;\n",
       "    }\n",
       "</style>\n",
       "<table border=\"1\" class=\"dataframe\">\n",
       "  <thead>\n",
       "    <tr style=\"text-align: right;\">\n",
       "      <th></th>\n",
       "      <th>Average_rating</th>\n",
       "      <th>no_of_ratings</th>\n",
       "    </tr>\n",
       "    <tr>\n",
       "      <th>name</th>\n",
       "      <th></th>\n",
       "      <th></th>\n",
       "    </tr>\n",
       "  </thead>\n",
       "  <tbody>\n",
       "    <tr>\n",
       "      <th>Kimi no Na wa.</th>\n",
       "      <td>8.324693</td>\n",
       "      <td>2199</td>\n",
       "    </tr>\n",
       "    <tr>\n",
       "      <th>Gintama Movie: Kanketsu-hen - Yorozuya yo Eien Nare</th>\n",
       "      <td>8.044752</td>\n",
       "      <td>2525</td>\n",
       "    </tr>\n",
       "    <tr>\n",
       "      <th>Koe no Katachi</th>\n",
       "      <td>7.636364</td>\n",
       "      <td>44</td>\n",
       "    </tr>\n",
       "    <tr>\n",
       "      <th>Ookami Kodomo no Ame to Yuki</th>\n",
       "      <td>7.522247</td>\n",
       "      <td>7709</td>\n",
       "    </tr>\n",
       "    <tr>\n",
       "      <th>Suzumiya Haruhi no Shoushitsu</th>\n",
       "      <td>7.486216</td>\n",
       "      <td>9576</td>\n",
       "    </tr>\n",
       "  </tbody>\n",
       "</table>\n",
       "</div>"
      ],
      "text/plain": [
       "                                                    Average_rating  \\\n",
       "name                                                                 \n",
       "Kimi no Na wa.                                            8.324693   \n",
       "Gintama Movie: Kanketsu-hen - Yorozuya yo Eien ...        8.044752   \n",
       "Koe no Katachi                                            7.636364   \n",
       "Ookami Kodomo no Ame to Yuki                              7.522247   \n",
       "Suzumiya Haruhi no Shoushitsu                             7.486216   \n",
       "\n",
       "                                                    no_of_ratings  \n",
       "name                                                               \n",
       "Kimi no Na wa.                                               2199  \n",
       "Gintama Movie: Kanketsu-hen - Yorozuya yo Eien ...           2525  \n",
       "Koe no Katachi                                                 44  \n",
       "Ookami Kodomo no Ame to Yuki                                 7709  \n",
       "Suzumiya Haruhi no Shoushitsu                                9576  "
      ]
     },
     "execution_count": 19,
     "metadata": {},
     "output_type": "execute_result"
    }
   ],
   "source": [
    "# After combing the rating of the user and the original.. Our Data is more compact and clean now\n",
    "final.head()\n",
    "# most of the ratings lies between the range 4.5-8"
   ]
  },
  {
   "cell_type": "code",
   "execution_count": 23,
   "metadata": {
    "execution": {
     "iopub.execute_input": "2021-09-24T19:31:18.961840Z",
     "iopub.status.busy": "2021-09-24T19:31:18.961166Z",
     "iopub.status.idle": "2021-09-24T19:31:19.187953Z",
     "shell.execute_reply": "2021-09-24T19:31:19.188365Z",
     "shell.execute_reply.started": "2021-09-24T18:41:40.119836Z"
    },
    "papermill": {
     "duration": 0.261394,
     "end_time": "2021-09-24T19:31:19.188512",
     "exception": false,
     "start_time": "2021-09-24T19:31:18.927118",
     "status": "completed"
    },
    "tags": []
   },
   "outputs": [
    {
     "name": "stdout",
     "output_type": "stream",
     "text": [
      "Bisa dilihat bahwa rata rata user memberikan rating terhadap anime direntang 4 - 8\n"
     ]
    },
    {
     "data": {
      "image/png": "[encoded data removed]",
      "text/plain": [
       "<Figure size 432x288 with 1 Axes>"
      ]
     },
     "metadata": {
      "needs_background": "light"
     },
     "output_type": "display_data"
    }
   ],
   "source": [
    "# melihat distribusi anime berdasarkan average rating dan jumlah user yang melakukan peratingan\n",
    "sns.scatterplot(y='no_of_ratings',x='Average_rating',data=final)\n",
    "plt.title(\"Average rating Distribution of Movie Anime based on User\", Fontsize= 14)\n",
    "print(\"Bisa dilihat bahwa rata rata user memberikan rating terhadap anime direntang 4 - 8\")"
   ]
  },
  {
   "cell_type": "code",
   "execution_count": 24,
   "metadata": {
    "execution": {
     "iopub.execute_input": "2021-09-24T19:31:19.226384Z",
     "iopub.status.busy": "2021-09-24T19:31:19.225939Z",
     "iopub.status.idle": "2021-09-24T19:31:19.457018Z",
     "shell.execute_reply": "2021-09-24T19:31:19.457519Z",
     "shell.execute_reply.started": "2021-09-24T18:41:40.388525Z"
    },
    "papermill": {
     "duration": 0.252081,
     "end_time": "2021-09-24T19:31:19.457707",
     "exception": false,
     "start_time": "2021-09-24T19:31:19.205626",
     "status": "completed"
    },
    "tags": []
   },
   "outputs": [
    {
     "data": {
      "text/plain": [
       "<AxesSubplot:>"
      ]
     },
     "execution_count": 24,
     "metadata": {},
     "output_type": "execute_result"
    },
    {
     "data": {
      "image/png": "[encoded data removed]",
      "text/plain": [
       "<Figure size 432x288 with 1 Axes>"
      ]
     },
     "metadata": {
      "needs_background": "light"
     },
     "output_type": "display_data"
    }
   ],
   "source": [
    "# melihat distribusi banyaknya user yang melakukan penilaian\n",
    "# bisa dilihat bahwa sebagain besar Anime dinilai oleh 2000 user\n",
    "# ini juga untuk melihat apakah data sudah berdistribusi normal?\n",
    "# ternyata data tidak berdistribusi normal\n",
    "final['no_of_ratings'].hist(bins=14)"
   ]
  },
  {
   "cell_type": "code",
   "execution_count": 25,
   "metadata": {
    "execution": {
     "iopub.execute_input": "2021-09-24T19:31:19.511164Z",
     "iopub.status.busy": "2021-09-24T19:31:19.510549Z",
     "iopub.status.idle": "2021-09-24T19:31:19.687969Z",
     "shell.execute_reply": "2021-09-24T19:31:19.688439Z",
     "shell.execute_reply.started": "2021-09-24T18:41:40.658620Z"
    },
    "papermill": {
     "duration": 0.205893,
     "end_time": "2021-09-24T19:31:19.688602",
     "exception": false,
     "start_time": "2021-09-24T19:31:19.482709",
     "status": "completed"
    },
    "tags": []
   },
   "outputs": [
    {
     "data": {
      "text/plain": [
       "<AxesSubplot:>"
      ]
     },
     "execution_count": 25,
     "metadata": {},
     "output_type": "execute_result"
    },
    {
     "data": {
      "image/png": "[encoded data removed]",
      "text/plain": [
       "<Figure size 432x288 with 1 Axes>"
      ]
     },
     "metadata": {
      "needs_background": "light"
     },
     "output_type": "display_data"
    }
   ],
   "source": [
    "# melihat apakah distribusi rata rata penilaian rating anime oleh user sudah berdistribusi normal?\n",
    "# opsi lain akan dilakukan transformasi\n",
    "final['Average_rating'].hist(bins=14)\n",
    "# Data is not normally distributed, but we are getting what we needed. "
   ]
  },
  {
   "cell_type": "markdown",
   "metadata": {
    "papermill": {
     "duration": 0.025493,
     "end_time": "2021-09-24T19:31:19.739740",
     "exception": false,
     "start_time": "2021-09-24T19:31:19.714247",
     "status": "completed"
    },
    "tags": []
   },
   "source": [
    "Recommendation System"
   ]
  },
  {
   "cell_type": "code",
   "execution_count": 10,
   "metadata": {
    "execution": {
     "iopub.execute_input": "2021-09-24T19:31:19.795897Z",
     "iopub.status.busy": "2021-09-24T19:31:19.795248Z",
     "iopub.status.idle": "2021-09-24T19:31:19.800724Z",
     "shell.execute_reply": "2021-09-24T19:31:19.801328Z",
     "shell.execute_reply.started": "2021-09-24T18:41:40.908132Z"
    },
    "papermill": {
     "duration": 0.035216,
     "end_time": "2021-09-24T19:31:19.801494",
     "exception": false,
     "start_time": "2021-09-24T19:31:19.766278",
     "status": "completed"
    },
    "tags": []
   },
   "outputs": [
    {
     "data": {
      "text/plain": [
       "name\n",
       "Sen to Chihiro no Kamikakushi                            22974\n",
       "Howl no Ugoku Shiro                                      17258\n",
       "Mononoke Hime                                            16303\n",
       "Byousoku 5 Centimeter                                    14304\n",
       "Toki wo Kakeru Shoujo                                    13053\n",
       "                                                         ...  \n",
       "Neko to Nezumi                                               1\n",
       "Juu-nin no Chiisa na Indian                                  1\n",
       "Ginga Tetsudou 999: Niji no Michishirube                     1\n",
       "Asu wo Tsukutta Otoko: Tanabe Sakurou to Biwako Sosui        1\n",
       "No Game No Life Movie                                        1\n",
       "Name: no_of_ratings, Length: 2142, dtype: int64"
      ]
     },
     "execution_count": 10,
     "metadata": {},
     "output_type": "execute_result"
    }
   ],
   "source": [
    "final.no_of_ratings.sort_values(ascending=False)"
   ]
  },
  {
   "cell_type": "code",
   "execution_count": 11,
   "metadata": {
    "execution": {
     "iopub.execute_input": "2021-09-24T19:31:19.857016Z",
     "iopub.status.busy": "2021-09-24T19:31:19.856515Z",
     "iopub.status.idle": "2021-09-24T19:31:19.865560Z",
     "shell.execute_reply": "2021-09-24T19:31:19.865154Z",
     "shell.execute_reply.started": "2021-09-24T18:41:40.918199Z"
    },
    "papermill": {
     "duration": 0.0381,
     "end_time": "2021-09-24T19:31:19.865687",
     "exception": false,
     "start_time": "2021-09-24T19:31:19.827587",
     "status": "completed"
    },
    "tags": []
   },
   "outputs": [
    {
     "data": {
      "text/html": [
       "<div>\n",
       "<style scoped>\n",
       "    .dataframe tbody tr th:only-of-type {\n",
       "        vertical-align: middle;\n",
       "    }\n",
       "\n",
       "    .dataframe tbody tr th {\n",
       "        vertical-align: top;\n",
       "    }\n",
       "\n",
       "    .dataframe thead th {\n",
       "        text-align: right;\n",
       "    }\n",
       "</style>\n",
       "<table border=\"1\" class=\"dataframe\">\n",
       "  <thead>\n",
       "    <tr style=\"text-align: right;\">\n",
       "      <th></th>\n",
       "      <th>Average_rating</th>\n",
       "      <th>no_of_ratings</th>\n",
       "    </tr>\n",
       "    <tr>\n",
       "      <th>name</th>\n",
       "      <th></th>\n",
       "      <th></th>\n",
       "    </tr>\n",
       "  </thead>\n",
       "  <tbody>\n",
       "    <tr>\n",
       "      <th>Kimi no Na wa.</th>\n",
       "      <td>8.324693</td>\n",
       "      <td>2199</td>\n",
       "    </tr>\n",
       "    <tr>\n",
       "      <th>Gintama Movie: Kanketsu-hen - Yorozuya yo Eien Nare</th>\n",
       "      <td>8.044752</td>\n",
       "      <td>2525</td>\n",
       "    </tr>\n",
       "    <tr>\n",
       "      <th>Koe no Katachi</th>\n",
       "      <td>7.636364</td>\n",
       "      <td>44</td>\n",
       "    </tr>\n",
       "    <tr>\n",
       "      <th>Ookami Kodomo no Ame to Yuki</th>\n",
       "      <td>7.522247</td>\n",
       "      <td>7709</td>\n",
       "    </tr>\n",
       "    <tr>\n",
       "      <th>Suzumiya Haruhi no Shoushitsu</th>\n",
       "      <td>7.486216</td>\n",
       "      <td>9576</td>\n",
       "    </tr>\n",
       "  </tbody>\n",
       "</table>\n",
       "</div>"
      ],
      "text/plain": [
       "                                                    Average_rating  \\\n",
       "name                                                                 \n",
       "Kimi no Na wa.                                            8.324693   \n",
       "Gintama Movie: Kanketsu-hen - Yorozuya yo Eien ...        8.044752   \n",
       "Koe no Katachi                                            7.636364   \n",
       "Ookami Kodomo no Ame to Yuki                              7.522247   \n",
       "Suzumiya Haruhi no Shoushitsu                             7.486216   \n",
       "\n",
       "                                                    no_of_ratings  \n",
       "name                                                               \n",
       "Kimi no Na wa.                                               2199  \n",
       "Gintama Movie: Kanketsu-hen - Yorozuya yo Eien ...           2525  \n",
       "Koe no Katachi                                                 44  \n",
       "Ookami Kodomo no Ame to Yuki                                 7709  \n",
       "Suzumiya Haruhi no Shoushitsu                                9576  "
      ]
     },
     "execution_count": 11,
     "metadata": {},
     "output_type": "execute_result"
    }
   ],
   "source": [
    "final.head()"
   ]
  },
  {
   "cell_type": "code",
   "execution_count": 27,
   "metadata": {
    "execution": {
     "iopub.execute_input": "2021-09-24T19:31:19.906368Z",
     "iopub.status.busy": "2021-09-24T19:31:19.905887Z",
     "iopub.status.idle": "2021-09-24T19:31:22.414443Z",
     "shell.execute_reply": "2021-09-24T19:31:22.414001Z",
     "shell.execute_reply.started": "2021-09-24T18:47:56.645019Z"
    },
    "papermill": {
     "duration": 2.530239,
     "end_time": "2021-09-24T19:31:22.414556",
     "exception": false,
     "start_time": "2021-09-24T19:31:19.884317",
     "status": "completed"
    },
    "tags": []
   },
   "outputs": [],
   "source": [
    "# making a pivot table to get the matrix form\n",
    "# of our data on the basis of mv name,user id and their rating\n",
    "mov_pivot = data_movie.pivot_table(index='user_id',columns='name',values='Average_rating')\n",
    "mov_pivot.to_csv('Ngecek1.csv')"
   ]
  },
  {
   "cell_type": "code",
   "execution_count": 28,
   "metadata": {
    "execution": {
     "iopub.execute_input": "2021-09-24T19:31:22.457328Z",
     "iopub.status.busy": "2021-09-24T19:31:22.456850Z",
     "iopub.status.idle": "2021-09-24T19:31:22.467157Z",
     "shell.execute_reply": "2021-09-24T19:31:22.466554Z",
     "shell.execute_reply.started": "2021-09-24T18:51:30.653298Z"
    },
    "papermill": {
     "duration": 0.033602,
     "end_time": "2021-09-24T19:31:22.467294",
     "exception": false,
     "start_time": "2021-09-24T19:31:22.433692",
     "status": "completed"
    },
    "tags": []
   },
   "outputs": [
    {
     "data": {
      "text/html": [
       "<div>\n",
       "<style scoped>\n",
       "    .dataframe tbody tr th:only-of-type {\n",
       "        vertical-align: middle;\n",
       "    }\n",
       "\n",
       "    .dataframe tbody tr th {\n",
       "        vertical-align: top;\n",
       "    }\n",
       "\n",
       "    .dataframe thead th {\n",
       "        text-align: right;\n",
       "    }\n",
       "</style>\n",
       "<table border=\"1\" class=\"dataframe\">\n",
       "  <thead>\n",
       "    <tr style=\"text-align: right;\">\n",
       "      <th></th>\n",
       "      <th>Average_rating</th>\n",
       "      <th>no_of_ratings</th>\n",
       "    </tr>\n",
       "    <tr>\n",
       "      <th>name</th>\n",
       "      <th></th>\n",
       "      <th></th>\n",
       "    </tr>\n",
       "  </thead>\n",
       "  <tbody>\n",
       "    <tr>\n",
       "      <th>Kimi no Na wa.</th>\n",
       "      <td>8.324693</td>\n",
       "      <td>2199</td>\n",
       "    </tr>\n",
       "    <tr>\n",
       "      <th>Gintama Movie: Kanketsu-hen - Yorozuya yo Eien Nare</th>\n",
       "      <td>8.044752</td>\n",
       "      <td>2525</td>\n",
       "    </tr>\n",
       "    <tr>\n",
       "      <th>Koe no Katachi</th>\n",
       "      <td>7.636364</td>\n",
       "      <td>44</td>\n",
       "    </tr>\n",
       "    <tr>\n",
       "      <th>Ookami Kodomo no Ame to Yuki</th>\n",
       "      <td>7.522247</td>\n",
       "      <td>7709</td>\n",
       "    </tr>\n",
       "    <tr>\n",
       "      <th>Suzumiya Haruhi no Shoushitsu</th>\n",
       "      <td>7.486216</td>\n",
       "      <td>9576</td>\n",
       "    </tr>\n",
       "  </tbody>\n",
       "</table>\n",
       "</div>"
      ],
      "text/plain": [
       "                                                    Average_rating  \\\n",
       "name                                                                 \n",
       "Kimi no Na wa.                                            8.324693   \n",
       "Gintama Movie: Kanketsu-hen - Yorozuya yo Eien ...        8.044752   \n",
       "Koe no Katachi                                            7.636364   \n",
       "Ookami Kodomo no Ame to Yuki                              7.522247   \n",
       "Suzumiya Haruhi no Shoushitsu                             7.486216   \n",
       "\n",
       "                                                    no_of_ratings  \n",
       "name                                                               \n",
       "Kimi no Na wa.                                               2199  \n",
       "Gintama Movie: Kanketsu-hen - Yorozuya yo Eien ...           2525  \n",
       "Koe no Katachi                                                 44  \n",
       "Ookami Kodomo no Ame to Yuki                                 7709  \n",
       "Suzumiya Haruhi no Shoushitsu                                9576  "
      ]
     },
     "execution_count": 28,
     "metadata": {},
     "output_type": "execute_result"
    }
   ],
   "source": [
    "final.sort_values('Average_rating',ascending = False).head()"
   ]
  },
  {
   "cell_type": "code",
   "execution_count": 30,
   "metadata": {
    "execution": {
     "iopub.execute_input": "2021-09-24T19:31:22.533541Z",
     "iopub.status.busy": "2021-09-24T19:31:22.532754Z",
     "iopub.status.idle": "2021-09-24T19:31:22.535197Z",
     "shell.execute_reply": "2021-09-24T19:31:22.534570Z",
     "shell.execute_reply.started": "2021-09-24T18:56:14.925446Z"
    },
    "papermill": {
     "duration": 0.035864,
     "end_time": "2021-09-24T19:31:22.535316",
     "exception": false,
     "start_time": "2021-09-24T19:31:22.499452",
     "status": "completed"
    },
    "tags": []
   },
   "outputs": [
    {
     "data": {
      "text/plain": [
       "9.0    1691\n",
       "8.0     248\n",
       "4.0     238\n",
       "7.0      20\n",
       "5.0       1\n",
       "6.0       1\n",
       "Name: Kimi no Na wa., dtype: int64"
      ]
     },
     "execution_count": 30,
     "metadata": {},
     "output_type": "execute_result"
    }
   ],
   "source": [
    "Kimi = mov_pivot['Kimi no Na wa.']\n",
    "Kimi.value_counts()"
   ]
  },
  {
   "cell_type": "code",
   "execution_count": 31,
   "metadata": {},
   "outputs": [
    {
     "data": {
      "text/plain": [
       "54299"
      ]
     },
     "execution_count": 31,
     "metadata": {},
     "output_type": "execute_result"
    }
   ],
   "source": [
    "# yang tidak merating\n",
    "Kimi.isnull().sum()"
   ]
  },
  {
   "cell_type": "code",
   "execution_count": 32,
   "metadata": {},
   "outputs": [
    {
     "data": {
      "text/plain": [
       "19216"
      ]
     },
     "execution_count": 32,
     "metadata": {},
     "output_type": "execute_result"
    }
   ],
   "source": [
    "Nan_Value=73515 - Kimi.isnull().sum()\n",
    "Nan_Value"
   ]
  },
  {
   "cell_type": "code",
   "execution_count": 33,
   "metadata": {
    "papermill": {
     "duration": 0.028233,
     "end_time": "2021-09-24T19:31:22.592387",
     "exception": false,
     "start_time": "2021-09-24T19:31:22.564154",
     "status": "completed"
    },
    "tags": []
   },
   "outputs": [
    {
     "data": {
      "text/plain": [
       "8.0    3534\n",
       "9.0    2436\n",
       "3.0    1081\n",
       "7.0     612\n",
       "6.0      38\n",
       "5.0       6\n",
       "4.0       2\n",
       "Name: Ookami Kodomo no Ame to Yuki, dtype: int64"
      ]
     },
     "execution_count": 33,
     "metadata": {},
     "output_type": "execute_result"
    }
   ],
   "source": [
    "second = mov_pivot['Ookami Kodomo no Ame to Yuki']\n",
    "second.value_counts()"
   ]
  },
  {
   "cell_type": "code",
   "execution_count": 34,
   "metadata": {},
   "outputs": [
    {
     "data": {
      "text/plain": [
       "name\n",
       "&quot;Aesop&quot; no Ohanashi yori: Ushi to Kaeru, Yokubatta Inu         NaN\n",
       "&quot;Bungaku Shoujo&quot; Movie                                    0.611051\n",
       ".hack//G.U. Trilogy                                                 0.324129\n",
       ".hack//The Movie: Sekai no Mukou ni                                 0.704359\n",
       "009 Re:Cyborg                                                       0.674577\n",
       "                                                                      ...   \n",
       "Zouressha ga Yatte Kita                                                  NaN\n",
       "Zutto Mae kara Suki deshita.: Kokuhaku Jikkou Iinkai                0.739636\n",
       "eX-Driver the Movie                                                 1.000000\n",
       "gdgd Fairies Movie: tte Iu Eiga wa Dou kana...?                          NaN\n",
       "xxxHOLiC Movie: Manatsu no Yoru no Yume                             0.633971\n",
       "Length: 2140, dtype: float64"
      ]
     },
     "execution_count": 34,
     "metadata": {},
     "output_type": "execute_result"
    }
   ],
   "source": [
    "SimilarToKimi=mov_pivot.corrwith(Kimi)\n",
    "SimilarToKimi"
   ]
  },
  {
   "cell_type": "code",
   "execution_count": 35,
   "metadata": {},
   "outputs": [
    {
     "data": {
      "text/html": [
       "<div>\n",
       "<style scoped>\n",
       "    .dataframe tbody tr th:only-of-type {\n",
       "        vertical-align: middle;\n",
       "    }\n",
       "\n",
       "    .dataframe tbody tr th {\n",
       "        vertical-align: top;\n",
       "    }\n",
       "\n",
       "    .dataframe thead th {\n",
       "        text-align: right;\n",
       "    }\n",
       "</style>\n",
       "<table border=\"1\" class=\"dataframe\">\n",
       "  <thead>\n",
       "    <tr style=\"text-align: right;\">\n",
       "      <th></th>\n",
       "      <th>correlation</th>\n",
       "    </tr>\n",
       "    <tr>\n",
       "      <th>name</th>\n",
       "      <th></th>\n",
       "    </tr>\n",
       "  </thead>\n",
       "  <tbody>\n",
       "    <tr>\n",
       "      <th>&amp;quot;Aesop&amp;quot; no Ohanashi yori: Ushi to Kaeru, Yokubatta Inu</th>\n",
       "      <td>NaN</td>\n",
       "    </tr>\n",
       "    <tr>\n",
       "      <th>&amp;quot;Bungaku Shoujo&amp;quot; Movie</th>\n",
       "      <td>0.611051</td>\n",
       "    </tr>\n",
       "    <tr>\n",
       "      <th>.hack//G.U. Trilogy</th>\n",
       "      <td>0.324129</td>\n",
       "    </tr>\n",
       "    <tr>\n",
       "      <th>.hack//The Movie: Sekai no Mukou ni</th>\n",
       "      <td>0.704359</td>\n",
       "    </tr>\n",
       "    <tr>\n",
       "      <th>009 Re:Cyborg</th>\n",
       "      <td>0.674577</td>\n",
       "    </tr>\n",
       "    <tr>\n",
       "      <th>...</th>\n",
       "      <td>...</td>\n",
       "    </tr>\n",
       "    <tr>\n",
       "      <th>Zouressha ga Yatte Kita</th>\n",
       "      <td>NaN</td>\n",
       "    </tr>\n",
       "    <tr>\n",
       "      <th>Zutto Mae kara Suki deshita.: Kokuhaku Jikkou Iinkai</th>\n",
       "      <td>0.739636</td>\n",
       "    </tr>\n",
       "    <tr>\n",
       "      <th>eX-Driver the Movie</th>\n",
       "      <td>1.000000</td>\n",
       "    </tr>\n",
       "    <tr>\n",
       "      <th>gdgd Fairies Movie: tte Iu Eiga wa Dou kana...?</th>\n",
       "      <td>NaN</td>\n",
       "    </tr>\n",
       "    <tr>\n",
       "      <th>xxxHOLiC Movie: Manatsu no Yoru no Yume</th>\n",
       "      <td>0.633971</td>\n",
       "    </tr>\n",
       "  </tbody>\n",
       "</table>\n",
       "<p>2140 rows × 1 columns</p>\n",
       "</div>"
      ],
      "text/plain": [
       "                                                    correlation\n",
       "name                                                           \n",
       "&quot;Aesop&quot; no Ohanashi yori: Ushi to Kae...          NaN\n",
       "&quot;Bungaku Shoujo&quot; Movie                       0.611051\n",
       ".hack//G.U. Trilogy                                    0.324129\n",
       ".hack//The Movie: Sekai no Mukou ni                    0.704359\n",
       "009 Re:Cyborg                                          0.674577\n",
       "...                                                         ...\n",
       "Zouressha ga Yatte Kita                                     NaN\n",
       "Zutto Mae kara Suki deshita.: Kokuhaku Jikkou I...     0.739636\n",
       "eX-Driver the Movie                                    1.000000\n",
       "gdgd Fairies Movie: tte Iu Eiga wa Dou kana...?             NaN\n",
       "xxxHOLiC Movie: Manatsu no Yoru no Yume                0.633971\n",
       "\n",
       "[2140 rows x 1 columns]"
      ]
     },
     "execution_count": 35,
     "metadata": {},
     "output_type": "execute_result"
    }
   ],
   "source": [
    "corr_kimi = pd.DataFrame(SimilarToKimi,columns=['correlation'])\n",
    "corr_kimi"
   ]
  },
  {
   "cell_type": "code",
   "execution_count": 38,
   "metadata": {},
   "outputs": [
    {
     "data": {
      "text/html": [
       "<div>\n",
       "<style scoped>\n",
       "    .dataframe tbody tr th:only-of-type {\n",
       "        vertical-align: middle;\n",
       "    }\n",
       "\n",
       "    .dataframe tbody tr th {\n",
       "        vertical-align: top;\n",
       "    }\n",
       "\n",
       "    .dataframe thead th {\n",
       "        text-align: right;\n",
       "    }\n",
       "</style>\n",
       "<table border=\"1\" class=\"dataframe\">\n",
       "  <thead>\n",
       "    <tr style=\"text-align: right;\">\n",
       "      <th></th>\n",
       "      <th>0</th>\n",
       "    </tr>\n",
       "  </thead>\n",
       "  <tbody>\n",
       "    <tr>\n",
       "      <th>0</th>\n",
       "      <td>NaN</td>\n",
       "    </tr>\n",
       "    <tr>\n",
       "      <th>1</th>\n",
       "      <td>0.611051</td>\n",
       "    </tr>\n",
       "    <tr>\n",
       "      <th>2</th>\n",
       "      <td>0.324129</td>\n",
       "    </tr>\n",
       "    <tr>\n",
       "      <th>3</th>\n",
       "      <td>0.704359</td>\n",
       "    </tr>\n",
       "    <tr>\n",
       "      <th>4</th>\n",
       "      <td>0.674577</td>\n",
       "    </tr>\n",
       "    <tr>\n",
       "      <th>...</th>\n",
       "      <td>...</td>\n",
       "    </tr>\n",
       "    <tr>\n",
       "      <th>2135</th>\n",
       "      <td>NaN</td>\n",
       "    </tr>\n",
       "    <tr>\n",
       "      <th>2136</th>\n",
       "      <td>0.739636</td>\n",
       "    </tr>\n",
       "    <tr>\n",
       "      <th>2137</th>\n",
       "      <td>1.000000</td>\n",
       "    </tr>\n",
       "    <tr>\n",
       "      <th>2138</th>\n",
       "      <td>NaN</td>\n",
       "    </tr>\n",
       "    <tr>\n",
       "      <th>2139</th>\n",
       "      <td>0.633971</td>\n",
       "    </tr>\n",
       "  </tbody>\n",
       "</table>\n",
       "<p>2140 rows × 1 columns</p>\n",
       "</div>"
      ],
      "text/plain": [
       "             0\n",
       "0          NaN\n",
       "1     0.611051\n",
       "2     0.324129\n",
       "3     0.704359\n",
       "4     0.674577\n",
       "...        ...\n",
       "2135       NaN\n",
       "2136  0.739636\n",
       "2137  1.000000\n",
       "2138       NaN\n",
       "2139  0.633971\n",
       "\n",
       "[2140 rows x 1 columns]"
      ]
     },
     "execution_count": 38,
     "metadata": {},
     "output_type": "execute_result"
    }
   ],
   "source": [
    "pd.DataFrame(corr_kimi.iloc[:,0].values)"
   ]
  },
  {
   "cell_type": "code",
   "execution_count": 42,
   "metadata": {},
   "outputs": [
    {
     "name": "stdout",
     "output_type": "stream",
     "text": [
      "Missing value pada tavel corr_kimi adalah  correlation    0\n",
      "dtype: int64\n"
     ]
    }
   ],
   "source": [
    "# Mengisi nan value dengan nilai 0\n",
    "corr_kimi['correlation']=corr_kimi['correlation'].fillna(0)\n",
    "print('Missing value pada tavel corr_kimi adalah ', corr_kimi.isna().sum())"
   ]
  },
  {
   "cell_type": "code",
   "execution_count": 44,
   "metadata": {},
   "outputs": [
    {
     "data": {
      "text/plain": [
       "correlation    2140\n",
       "dtype: int64"
      ]
     },
     "execution_count": 44,
     "metadata": {},
     "output_type": "execute_result"
    }
   ],
   "source": [
    "# jumlah data di tabel corr_kimi\n",
    "corr_kimi.count()"
   ]
  },
  {
   "cell_type": "code",
   "execution_count": 47,
   "metadata": {},
   "outputs": [
    {
     "data": {
      "text/plain": [
       "correlation    840\n",
       "dtype: int64"
      ]
     },
     "execution_count": 47,
     "metadata": {},
     "output_type": "execute_result"
    }
   ],
   "source": [
    "# Jumlah data setelah nilai dengan rating nol dihilangkan\n",
    "corr_kimi[corr_kimi['correlation']!=0.000000].count()"
   ]
  },
  {
   "cell_type": "code",
   "execution_count": 48,
   "metadata": {
    "execution": {
     "iopub.execute_input": "2021-09-24T19:31:22.656222Z",
     "iopub.status.busy": "2021-09-24T19:31:22.655359Z",
     "iopub.status.idle": "2021-09-24T19:31:23.235760Z",
     "shell.execute_reply": "2021-09-24T19:31:23.235198Z",
     "shell.execute_reply.started": "2021-09-24T19:24:03.703087Z"
    },
    "papermill": {
     "duration": 0.615403,
     "end_time": "2021-09-24T19:31:23.235897",
     "exception": false,
     "start_time": "2021-09-24T19:31:22.620494",
     "status": "completed"
    },
    "tags": []
   },
   "outputs": [],
   "source": [
    "corr_kimi = corr_kimi[corr_kimi['correlation']!=0.000000]"
   ]
  },
  {
   "cell_type": "code",
   "execution_count": 49,
   "metadata": {},
   "outputs": [
    {
     "data": {
      "text/html": [
       "<div>\n",
       "<style scoped>\n",
       "    .dataframe tbody tr th:only-of-type {\n",
       "        vertical-align: middle;\n",
       "    }\n",
       "\n",
       "    .dataframe tbody tr th {\n",
       "        vertical-align: top;\n",
       "    }\n",
       "\n",
       "    .dataframe thead th {\n",
       "        text-align: right;\n",
       "    }\n",
       "</style>\n",
       "<table border=\"1\" class=\"dataframe\">\n",
       "  <thead>\n",
       "    <tr style=\"text-align: right;\">\n",
       "      <th></th>\n",
       "      <th>correlation</th>\n",
       "    </tr>\n",
       "    <tr>\n",
       "      <th>name</th>\n",
       "      <th></th>\n",
       "    </tr>\n",
       "  </thead>\n",
       "  <tbody>\n",
       "    <tr>\n",
       "      <th>Smile Precure! Movie: Ehon no Naka wa Minna Chiguhagu!</th>\n",
       "      <td>1.0</td>\n",
       "    </tr>\n",
       "    <tr>\n",
       "      <th>Doraemon Movie 10: Nobita no Nippon Tanjou</th>\n",
       "      <td>1.0</td>\n",
       "    </tr>\n",
       "    <tr>\n",
       "      <th>Yona Yona Penguin</th>\n",
       "      <td>1.0</td>\n",
       "    </tr>\n",
       "    <tr>\n",
       "      <th>Yousei Florence</th>\n",
       "      <td>1.0</td>\n",
       "    </tr>\n",
       "    <tr>\n",
       "      <th>Crayon Shin-chan Movie 13: Densetsu wo Yobu Buriburi 3 Pun Dai Shingeki</th>\n",
       "      <td>1.0</td>\n",
       "    </tr>\n",
       "  </tbody>\n",
       "</table>\n",
       "</div>"
      ],
      "text/plain": [
       "                                                    correlation\n",
       "name                                                           \n",
       "Smile Precure! Movie: Ehon no Naka wa Minna Chi...          1.0\n",
       "Doraemon Movie 10: Nobita no Nippon Tanjou                  1.0\n",
       "Yona Yona Penguin                                           1.0\n",
       "Yousei Florence                                             1.0\n",
       "Crayon Shin-chan Movie 13: Densetsu wo Yobu Bur...          1.0"
      ]
     },
     "execution_count": 49,
     "metadata": {},
     "output_type": "execute_result"
    }
   ],
   "source": [
    "corr_kimi.sort_values('correlation',ascending=False).head(5)"
   ]
  },
  {
   "cell_type": "code",
   "execution_count": 55,
   "metadata": {
    "execution": {
     "iopub.execute_input": "2021-09-24T19:31:23.314553Z",
     "iopub.status.busy": "2021-09-24T19:31:23.313897Z",
     "iopub.status.idle": "2021-09-24T19:31:23.319955Z",
     "shell.execute_reply": "2021-09-24T19:31:23.319367Z",
     "shell.execute_reply.started": "2021-09-24T19:24:07.511158Z"
    },
    "papermill": {
     "duration": 0.054376,
     "end_time": "2021-09-24T19:31:23.320089",
     "exception": false,
     "start_time": "2021-09-24T19:31:23.265713",
     "status": "completed"
    },
    "tags": []
   },
   "outputs": [
    {
     "ename": "ValueError",
     "evalue": "columns overlap but no suffix specified: Index(['no_of_ratings'], dtype='object')",
     "output_type": "error",
     "traceback": [
      "\u001b[1;31m---------------------------------------------------------------------------\u001b[0m",
      "\u001b[1;31mValueError\u001b[0m                                Traceback (most recent call last)",
      "\u001b[1;32m<ipython-input-55-c211b0692f52>\u001b[0m in \u001b[0;36m<module>\u001b[1;34m\u001b[0m\n\u001b[0;32m      1\u001b[0m \u001b[1;31m# what if its all one user ratings\u001b[0m\u001b[1;33m\u001b[0m\u001b[1;33m\u001b[0m\u001b[1;33m\u001b[0m\u001b[0m\n\u001b[1;32m----> 2\u001b[1;33m \u001b[0mcorr_kimi\u001b[0m \u001b[1;33m=\u001b[0m \u001b[0mcorr_kimi\u001b[0m\u001b[1;33m.\u001b[0m\u001b[0mjoin\u001b[0m\u001b[1;33m(\u001b[0m\u001b[0mfinal\u001b[0m\u001b[1;33m[\u001b[0m\u001b[1;34m'no_of_ratings'\u001b[0m\u001b[1;33m]\u001b[0m\u001b[1;33m)\u001b[0m\u001b[1;33m\u001b[0m\u001b[1;33m\u001b[0m\u001b[0m\n\u001b[0m\u001b[0;32m      3\u001b[0m \u001b[0mcorr_kimi\u001b[0m\u001b[1;33m\u001b[0m\u001b[1;33m\u001b[0m\u001b[0m\n",
      "\u001b[1;32m~\\anaconda3\\lib\\site-packages\\pandas\\core\\frame.py\u001b[0m in \u001b[0;36mjoin\u001b[1;34m(self, other, on, how, lsuffix, rsuffix, sort)\u001b[0m\n\u001b[0;32m   9258\u001b[0m         \u001b[1;36m5\u001b[0m  \u001b[0mK1\u001b[0m  \u001b[0mA5\u001b[0m   \u001b[0mB1\u001b[0m\u001b[1;33m\u001b[0m\u001b[1;33m\u001b[0m\u001b[0m\n\u001b[0;32m   9259\u001b[0m         \"\"\"\n\u001b[1;32m-> 9260\u001b[1;33m         return self._join_compat(\n\u001b[0m\u001b[0;32m   9261\u001b[0m             \u001b[0mother\u001b[0m\u001b[1;33m,\u001b[0m \u001b[0mon\u001b[0m\u001b[1;33m=\u001b[0m\u001b[0mon\u001b[0m\u001b[1;33m,\u001b[0m \u001b[0mhow\u001b[0m\u001b[1;33m=\u001b[0m\u001b[0mhow\u001b[0m\u001b[1;33m,\u001b[0m \u001b[0mlsuffix\u001b[0m\u001b[1;33m=\u001b[0m\u001b[0mlsuffix\u001b[0m\u001b[1;33m,\u001b[0m \u001b[0mrsuffix\u001b[0m\u001b[1;33m=\u001b[0m\u001b[0mrsuffix\u001b[0m\u001b[1;33m,\u001b[0m \u001b[0msort\u001b[0m\u001b[1;33m=\u001b[0m\u001b[0msort\u001b[0m\u001b[1;33m\u001b[0m\u001b[1;33m\u001b[0m\u001b[0m\n\u001b[0;32m   9262\u001b[0m         )\n",
      "\u001b[1;32m~\\anaconda3\\lib\\site-packages\\pandas\\core\\frame.py\u001b[0m in \u001b[0;36m_join_compat\u001b[1;34m(self, other, on, how, lsuffix, rsuffix, sort)\u001b[0m\n\u001b[0;32m   9289\u001b[0m                     \u001b[0msort\u001b[0m\u001b[1;33m=\u001b[0m\u001b[0msort\u001b[0m\u001b[1;33m,\u001b[0m\u001b[1;33m\u001b[0m\u001b[1;33m\u001b[0m\u001b[0m\n\u001b[0;32m   9290\u001b[0m                 )\n\u001b[1;32m-> 9291\u001b[1;33m             return merge(\n\u001b[0m\u001b[0;32m   9292\u001b[0m                 \u001b[0mself\u001b[0m\u001b[1;33m,\u001b[0m\u001b[1;33m\u001b[0m\u001b[1;33m\u001b[0m\u001b[0m\n\u001b[0;32m   9293\u001b[0m                 \u001b[0mother\u001b[0m\u001b[1;33m,\u001b[0m\u001b[1;33m\u001b[0m\u001b[1;33m\u001b[0m\u001b[0m\n",
      "\u001b[1;32m~\\anaconda3\\lib\\site-packages\\pandas\\core\\reshape\\merge.py\u001b[0m in \u001b[0;36mmerge\u001b[1;34m(left, right, how, on, left_on, right_on, left_index, right_index, sort, suffixes, copy, indicator, validate)\u001b[0m\n\u001b[0;32m    120\u001b[0m         \u001b[0mvalidate\u001b[0m\u001b[1;33m=\u001b[0m\u001b[0mvalidate\u001b[0m\u001b[1;33m,\u001b[0m\u001b[1;33m\u001b[0m\u001b[1;33m\u001b[0m\u001b[0m\n\u001b[0;32m    121\u001b[0m     )\n\u001b[1;32m--> 122\u001b[1;33m     \u001b[1;32mreturn\u001b[0m \u001b[0mop\u001b[0m\u001b[1;33m.\u001b[0m\u001b[0mget_result\u001b[0m\u001b[1;33m(\u001b[0m\u001b[1;33m)\u001b[0m\u001b[1;33m\u001b[0m\u001b[1;33m\u001b[0m\u001b[0m\n\u001b[0m\u001b[0;32m    123\u001b[0m \u001b[1;33m\u001b[0m\u001b[0m\n\u001b[0;32m    124\u001b[0m \u001b[1;33m\u001b[0m\u001b[0m\n",
      "\u001b[1;32m~\\anaconda3\\lib\\site-packages\\pandas\\core\\reshape\\merge.py\u001b[0m in \u001b[0;36mget_result\u001b[1;34m(self)\u001b[0m\n\u001b[0;32m    716\u001b[0m         \u001b[0mjoin_index\u001b[0m\u001b[1;33m,\u001b[0m \u001b[0mleft_indexer\u001b[0m\u001b[1;33m,\u001b[0m \u001b[0mright_indexer\u001b[0m \u001b[1;33m=\u001b[0m \u001b[0mself\u001b[0m\u001b[1;33m.\u001b[0m\u001b[0m_get_join_info\u001b[0m\u001b[1;33m(\u001b[0m\u001b[1;33m)\u001b[0m\u001b[1;33m\u001b[0m\u001b[1;33m\u001b[0m\u001b[0m\n\u001b[0;32m    717\u001b[0m \u001b[1;33m\u001b[0m\u001b[0m\n\u001b[1;32m--> 718\u001b[1;33m         llabels, rlabels = _items_overlap_with_suffix(\n\u001b[0m\u001b[0;32m    719\u001b[0m             \u001b[0mself\u001b[0m\u001b[1;33m.\u001b[0m\u001b[0mleft\u001b[0m\u001b[1;33m.\u001b[0m\u001b[0m_info_axis\u001b[0m\u001b[1;33m,\u001b[0m \u001b[0mself\u001b[0m\u001b[1;33m.\u001b[0m\u001b[0mright\u001b[0m\u001b[1;33m.\u001b[0m\u001b[0m_info_axis\u001b[0m\u001b[1;33m,\u001b[0m \u001b[0mself\u001b[0m\u001b[1;33m.\u001b[0m\u001b[0msuffixes\u001b[0m\u001b[1;33m\u001b[0m\u001b[1;33m\u001b[0m\u001b[0m\n\u001b[0;32m    720\u001b[0m         )\n",
      "\u001b[1;32m~\\anaconda3\\lib\\site-packages\\pandas\\core\\reshape\\merge.py\u001b[0m in \u001b[0;36m_items_overlap_with_suffix\u001b[1;34m(left, right, suffixes)\u001b[0m\n\u001b[0;32m   2315\u001b[0m \u001b[1;33m\u001b[0m\u001b[0m\n\u001b[0;32m   2316\u001b[0m     \u001b[1;32mif\u001b[0m \u001b[1;32mnot\u001b[0m \u001b[0mlsuffix\u001b[0m \u001b[1;32mand\u001b[0m \u001b[1;32mnot\u001b[0m \u001b[0mrsuffix\u001b[0m\u001b[1;33m:\u001b[0m\u001b[1;33m\u001b[0m\u001b[1;33m\u001b[0m\u001b[0m\n\u001b[1;32m-> 2317\u001b[1;33m         \u001b[1;32mraise\u001b[0m \u001b[0mValueError\u001b[0m\u001b[1;33m(\u001b[0m\u001b[1;34mf\"columns overlap but no suffix specified: {to_rename}\"\u001b[0m\u001b[1;33m)\u001b[0m\u001b[1;33m\u001b[0m\u001b[1;33m\u001b[0m\u001b[0m\n\u001b[0m\u001b[0;32m   2318\u001b[0m \u001b[1;33m\u001b[0m\u001b[0m\n\u001b[0;32m   2319\u001b[0m     \u001b[1;32mdef\u001b[0m \u001b[0mrenamer\u001b[0m\u001b[1;33m(\u001b[0m\u001b[0mx\u001b[0m\u001b[1;33m,\u001b[0m \u001b[0msuffix\u001b[0m\u001b[1;33m)\u001b[0m\u001b[1;33m:\u001b[0m\u001b[1;33m\u001b[0m\u001b[1;33m\u001b[0m\u001b[0m\n",
      "\u001b[1;31mValueError\u001b[0m: columns overlap but no suffix specified: Index(['no_of_ratings'], dtype='object')"
     ]
    }
   ],
   "source": [
    "# what if its all one user ratings\n",
    "corr_kimi = corr_kimi.join(final['no_of_ratings'])"
   ]
  },
  {
   "cell_type": "code",
   "execution_count": 56,
   "metadata": {},
   "outputs": [
    {
     "data": {
      "text/html": [
       "<div>\n",
       "<style scoped>\n",
       "    .dataframe tbody tr th:only-of-type {\n",
       "        vertical-align: middle;\n",
       "    }\n",
       "\n",
       "    .dataframe tbody tr th {\n",
       "        vertical-align: top;\n",
       "    }\n",
       "\n",
       "    .dataframe thead th {\n",
       "        text-align: right;\n",
       "    }\n",
       "</style>\n",
       "<table border=\"1\" class=\"dataframe\">\n",
       "  <thead>\n",
       "    <tr style=\"text-align: right;\">\n",
       "      <th></th>\n",
       "      <th>correlation</th>\n",
       "      <th>no_of_ratings</th>\n",
       "    </tr>\n",
       "    <tr>\n",
       "      <th>name</th>\n",
       "      <th></th>\n",
       "      <th></th>\n",
       "    </tr>\n",
       "  </thead>\n",
       "  <tbody>\n",
       "    <tr>\n",
       "      <th>&amp;quot;Bungaku Shoujo&amp;quot; Movie</th>\n",
       "      <td>0.611051</td>\n",
       "      <td>1535</td>\n",
       "    </tr>\n",
       "    <tr>\n",
       "      <th>.hack//G.U. Trilogy</th>\n",
       "      <td>0.324129</td>\n",
       "      <td>1118</td>\n",
       "    </tr>\n",
       "    <tr>\n",
       "      <th>.hack//The Movie: Sekai no Mukou ni</th>\n",
       "      <td>0.704359</td>\n",
       "      <td>446</td>\n",
       "    </tr>\n",
       "    <tr>\n",
       "      <th>009 Re:Cyborg</th>\n",
       "      <td>0.674577</td>\n",
       "      <td>291</td>\n",
       "    </tr>\n",
       "    <tr>\n",
       "      <th>00:08</th>\n",
       "      <td>0.384615</td>\n",
       "      <td>43</td>\n",
       "    </tr>\n",
       "    <tr>\n",
       "      <th>...</th>\n",
       "      <td>...</td>\n",
       "      <td>...</td>\n",
       "    </tr>\n",
       "    <tr>\n",
       "      <th>Yu☆Gi☆Oh! (1999)</th>\n",
       "      <td>0.452413</td>\n",
       "      <td>1495</td>\n",
       "    </tr>\n",
       "    <tr>\n",
       "      <th>Yu☆Gi☆Oh!: Hikari no Pyramid</th>\n",
       "      <td>0.441942</td>\n",
       "      <td>2375</td>\n",
       "    </tr>\n",
       "    <tr>\n",
       "      <th>Zutto Mae kara Suki deshita.: Kokuhaku Jikkou Iinkai</th>\n",
       "      <td>0.739636</td>\n",
       "      <td>451</td>\n",
       "    </tr>\n",
       "    <tr>\n",
       "      <th>eX-Driver the Movie</th>\n",
       "      <td>1.000000</td>\n",
       "      <td>149</td>\n",
       "    </tr>\n",
       "    <tr>\n",
       "      <th>xxxHOLiC Movie: Manatsu no Yoru no Yume</th>\n",
       "      <td>0.633971</td>\n",
       "      <td>2365</td>\n",
       "    </tr>\n",
       "  </tbody>\n",
       "</table>\n",
       "<p>840 rows × 2 columns</p>\n",
       "</div>"
      ],
      "text/plain": [
       "                                                    correlation  no_of_ratings\n",
       "name                                                                          \n",
       "&quot;Bungaku Shoujo&quot; Movie                       0.611051           1535\n",
       ".hack//G.U. Trilogy                                    0.324129           1118\n",
       ".hack//The Movie: Sekai no Mukou ni                    0.704359            446\n",
       "009 Re:Cyborg                                          0.674577            291\n",
       "00:08                                                  0.384615             43\n",
       "...                                                         ...            ...\n",
       "Yu☆Gi☆Oh! (1999)                                       0.452413           1495\n",
       "Yu☆Gi☆Oh!: Hikari no Pyramid                           0.441942           2375\n",
       "Zutto Mae kara Suki deshita.: Kokuhaku Jikkou I...     0.739636            451\n",
       "eX-Driver the Movie                                    1.000000            149\n",
       "xxxHOLiC Movie: Manatsu no Yoru no Yume                0.633971           2365\n",
       "\n",
       "[840 rows x 2 columns]"
      ]
     },
     "execution_count": 56,
     "metadata": {},
     "output_type": "execute_result"
    }
   ],
   "source": [
    "corr_kimi"
   ]
  },
  {
   "cell_type": "code",
   "execution_count": 61,
   "metadata": {},
   "outputs": [
    {
     "name": "stdout",
     "output_type": "stream",
     "text": [
      "                                  correlation  no_of_ratings\n",
      "name                                                        \n",
      "&quot;Bungaku Shoujo&quot; Movie     0.611051           1535\n",
      ".hack//G.U. Trilogy                  0.324129           1118\n",
      "Aa! Megami-sama! Movie               0.208486           1835\n",
      "Afro Samurai: Resurrection           0.668187           2881\n",
      "Air Movie                            0.523059           2515\n",
      "/nbanyaknya data pada corr_kim : correlation      263\n",
      "no_of_ratings    263\n",
      "dtype: int64\n"
     ]
    }
   ],
   "source": [
    "# memfilter tabel corr_kimi dan hanya melihat anime dengan jumlah perating > 1000\n",
    "corr_kimi=corr_kimi[corr_kimi['no_of_ratings'] > 1000]\n",
    "print(corr_kimi.head())\n",
    "print('/nbanyaknya data pada corr_kim :', corr_kimi.count())"
   ]
  },
  {
   "cell_type": "code",
   "execution_count": 62,
   "metadata": {
    "execution": {
     "iopub.execute_input": "2021-09-24T19:31:23.393021Z",
     "iopub.status.busy": "2021-09-24T19:31:23.392381Z",
     "iopub.status.idle": "2021-09-24T19:31:23.397803Z",
     "shell.execute_reply": "2021-09-24T19:31:23.397176Z",
     "shell.execute_reply.started": "2021-09-24T19:28:56.364735Z"
    },
    "papermill": {
     "duration": 0.047314,
     "end_time": "2021-09-24T19:31:23.397931",
     "exception": false,
     "start_time": "2021-09-24T19:31:23.350617",
     "status": "completed"
    },
    "tags": []
   },
   "outputs": [
    {
     "data": {
      "text/html": [
       "<div>\n",
       "<style scoped>\n",
       "    .dataframe tbody tr th:only-of-type {\n",
       "        vertical-align: middle;\n",
       "    }\n",
       "\n",
       "    .dataframe tbody tr th {\n",
       "        vertical-align: top;\n",
       "    }\n",
       "\n",
       "    .dataframe thead th {\n",
       "        text-align: right;\n",
       "    }\n",
       "</style>\n",
       "<table border=\"1\" class=\"dataframe\">\n",
       "  <thead>\n",
       "    <tr style=\"text-align: right;\">\n",
       "      <th></th>\n",
       "      <th>correlation</th>\n",
       "      <th>no_of_ratings</th>\n",
       "    </tr>\n",
       "    <tr>\n",
       "      <th>name</th>\n",
       "      <th></th>\n",
       "      <th></th>\n",
       "    </tr>\n",
       "  </thead>\n",
       "  <tbody>\n",
       "    <tr>\n",
       "      <th>Kimi no Na wa.</th>\n",
       "      <td>1.000000</td>\n",
       "      <td>2199</td>\n",
       "    </tr>\n",
       "    <tr>\n",
       "      <th>Lupin III: Cagliostro no Shiro</th>\n",
       "      <td>0.835557</td>\n",
       "      <td>1586</td>\n",
       "    </tr>\n",
       "    <tr>\n",
       "      <th>Toaru Majutsu no Index: Endymion no Kiseki</th>\n",
       "      <td>0.768747</td>\n",
       "      <td>2245</td>\n",
       "    </tr>\n",
       "    <tr>\n",
       "      <th>Omoide no Marnie</th>\n",
       "      <td>0.767510</td>\n",
       "      <td>1319</td>\n",
       "    </tr>\n",
       "    <tr>\n",
       "      <th>Kokoro ga Sakebitagatterunda.</th>\n",
       "      <td>0.762505</td>\n",
       "      <td>1059</td>\n",
       "    </tr>\n",
       "  </tbody>\n",
       "</table>\n",
       "</div>"
      ],
      "text/plain": [
       "                                            correlation  no_of_ratings\n",
       "name                                                                  \n",
       "Kimi no Na wa.                                 1.000000           2199\n",
       "Lupin III: Cagliostro no Shiro                 0.835557           1586\n",
       "Toaru Majutsu no Index: Endymion no Kiseki     0.768747           2245\n",
       "Omoide no Marnie                               0.767510           1319\n",
       "Kokoro ga Sakebitagatterunda.                  0.762505           1059"
      ]
     },
     "execution_count": 62,
     "metadata": {},
     "output_type": "execute_result"
    }
   ],
   "source": [
    "# getiing genuine results by filtering on the basis of no of ratings\n",
    "# merapihkan data dan hanya melihat anime yang mempunyai korelasi tertinggi\n",
    "# dan dinilai oleh banyak user (lebih dari 1000 user)\n",
    "corr_kimi.sort_values('correlation',ascending=False).head(5)"
   ]
  },
  {
   "cell_type": "markdown",
   "metadata": {
    "papermill": {
     "duration": 0.029523,
     "end_time": "2021-09-24T19:31:23.457728",
     "exception": false,
     "start_time": "2021-09-24T19:31:23.428205",
     "status": "completed"
    },
    "tags": []
   },
   "source": [
    "Note: All the series are verifed by me and trust me, They are really correlated. Wynkk"
   ]
  }
 ],
 "metadata": {
  "kernelspec": {
   "display_name": "Python 3",
   "language": "python",
   "name": "python3"
  },
  "language_info": {
   "codemirror_mode": {
    "name": "ipython",
    "version": 3
   },
   "file_extension": ".py",
   "mimetype": "text/x-python",
   "name": "python",
   "nbconvert_exporter": "python",
   "pygments_lexer": "ipython3",
   "version": "3.8.5"
  },
  "papermill": {
   "default_parameters": {},
   "duration": 29.602596,
   "end_time": "2021-09-24T19:31:24.698993",
   "environment_variables": {},
   "exception": null,
   "input_path": "__notebook__.ipynb",
   "output_path": "__notebook__.ipynb",
   "parameters": {},
   "start_time": "2021-09-24T19:30:55.096397",
   "version": "2.3.3"
  }
 },
 "nbformat": 4,
 "nbformat_minor": 5
}
